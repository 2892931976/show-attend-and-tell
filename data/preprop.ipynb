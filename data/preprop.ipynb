{
 "cells": [
  {
   "cell_type": "code",
   "execution_count": 33,
   "metadata": {
    "collapsed": true
   },
   "outputs": [],
   "source": [
    "import cPickle as pickle\n",
    "from preprocess import *\n",
    "%load_ext autoreload\n",
    "%autoreload 2"
   ]
  },
  {
   "cell_type": "code",
   "execution_count": 133,
   "metadata": {
    "collapsed": false
   },
   "outputs": [],
   "source": [
    "# load annotations\n",
    "with open('./train/train.annotations.pkl', 'rb') as f:\n",
    "    train_annotations = pickle.load(f)\n",
    "    \n",
    "with open('./val/val.annotations.pkl', 'rb') as f:\n",
    "    val_annotations = pickle.load(f)\n",
    "\n",
    "with open('./test/test.annotations.pkl', 'rb') as f:\n",
    "    test_annotations = pickle.load(f)"
   ]
  },
  {
   "cell_type": "code",
   "execution_count": 157,
   "metadata": {
    "collapsed": false
   },
   "outputs": [
    {
     "name": "stdout",
     "output_type": "stream",
     "text": [
      "Filtered words from 1859 to 1859\n"
     ]
    }
   ],
   "source": [
    "word_to_idx, idx_to_word, max_len = build_word_to_idx(train_annotations['caption'], 1)\n",
    "assert max_len == 15"
   ]
  },
  {
   "cell_type": "code",
   "execution_count": 150,
   "metadata": {
    "collapsed": true
   },
   "outputs": [],
   "source": [
    "del_count = 0\n",
    "del_idx = []\n",
    "\n",
    "for i, caption in enumerate(val_annotations['caption']):\n",
    "    word_list = caption.split(' ')\n",
    "    dell = False\n",
    "    for word in word_list:\n",
    "        word = word.lower()\n",
    "        if word not in word_to_idx:\n",
    "            del_idx.append(i)\n",
    "            dell = True\n",
    "        \n",
    "    if dell:\n",
    "        del_count +=1\n",
    "        "
   ]
  },
  {
   "cell_type": "code",
   "execution_count": 136,
   "metadata": {
    "collapsed": false
   },
   "outputs": [
    {
     "data": {
      "text/plain": [
       "109548"
      ]
     },
     "execution_count": 136,
     "metadata": {},
     "output_type": "execute_result"
    }
   ],
   "source": [
    "len(train_annotations['image_id'].unique())"
   ]
  },
  {
   "cell_type": "code",
   "execution_count": 137,
   "metadata": {
    "collapsed": false
   },
   "outputs": [
    {
     "name": "stdout",
     "output_type": "stream",
     "text": [
      "the number of captions before deleting: 370908\n",
      "the number of captions after deleting: 370908\n"
     ]
    }
   ],
   "source": [
    "print \"the number of captions before deleting: %d\" %len(train_annotations)\n",
    "train_annotations = train_annotations.drop(train_annotations.index[del_idx])\n",
    "train_annotations = train_annotations.reset_index(drop=True)\n",
    "print \"the number of captions after deleting: %d\" %len(train_annotations)"
   ]
  },
  {
   "cell_type": "code",
   "execution_count": 131,
   "metadata": {
    "collapsed": false
   },
   "outputs": [
    {
     "data": {
      "text/plain": [
       "109541"
      ]
     },
     "execution_count": 131,
     "metadata": {},
     "output_type": "execute_result"
    }
   ],
   "source": [
    "len(train_annotations['image_id'].unique())"
   ]
  },
  {
   "cell_type": "code",
   "execution_count": 108,
   "metadata": {
    "collapsed": false
   },
   "outputs": [],
   "source": [
    "with open('./train/train.annotations.pkl', 'wb') as f:\n",
    "    pickle.dump(train_annotations, f, pickle.HIGHEST_PROTOCOL)"
   ]
  },
  {
   "cell_type": "code",
   "execution_count": 156,
   "metadata": {
    "collapsed": false
   },
   "outputs": [
    {
     "data": {
      "text/plain": [
       "1693"
      ]
     },
     "execution_count": 156,
     "metadata": {},
     "output_type": "execute_result"
    }
   ],
   "source": [
    "len(word_to_idx)"
   ]
  },
  {
   "cell_type": "code",
   "execution_count": 154,
   "metadata": {
    "collapsed": false,
    "scrolled": true
   },
   "outputs": [],
   "source": [
    "with open('./train/word_to_idx.pkl', 'wb') as f:\n",
    "    pickle.dump(word_to_idx, f, pickle.HIGHEST_PROTOCOL)"
   ]
  }
 ],
 "metadata": {
  "kernelspec": {
   "display_name": "Python [Root]",
   "language": "python",
   "name": "Python [Root]"
  },
  "language_info": {
   "codemirror_mode": {
    "name": "ipython",
    "version": 2
   },
   "file_extension": ".py",
   "mimetype": "text/x-python",
   "name": "python",
   "nbconvert_exporter": "python",
   "pygments_lexer": "ipython2",
   "version": "2.7.12"
  }
 },
 "nbformat": 4,
 "nbformat_minor": 0
}
